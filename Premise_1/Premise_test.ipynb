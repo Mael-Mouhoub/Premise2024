{
 "cells": [
  {
   "cell_type": "code",
   "execution_count": 11,
   "id": "78feb939-9f49-49f8-8ae0-9a53649e8ac2",
   "metadata": {},
   "outputs": [],
   "source": [
    "import brightway2 as bw2\n",
    "from brightway2 import *\n",
    "import pandas as pd\n",
    "import numpy as np\n",
    "from premise import *\n",
    "from premise import NewDatabase\n",
    "from datapackage import Package\n"
   ]
  },
  {
   "cell_type": "code",
   "execution_count": 8,
   "id": "29ed9b78-b876-48ff-8b5b-a41cc9a833f0",
   "metadata": {},
   "outputs": [
    {
     "data": {
      "text/plain": [
       "Brightway2 projects manager with 4 objects:\n",
       "\tPremise_test\n",
       "\tdefault\n",
       "\tecoinvent3.7\n",
       "\tpremise\n",
       "Use `projects.report()` to get a report on all projects."
      ]
     },
     "execution_count": 8,
     "metadata": {},
     "output_type": "execute_result"
    }
   ],
   "source": [
    "projects"
   ]
  },
  {
   "cell_type": "code",
   "execution_count": 9,
   "id": "02eac043-06d0-489d-95e1-e5cbbb94c9ec",
   "metadata": {},
   "outputs": [],
   "source": [
    "projects.set_current('Premise_test')"
   ]
  },
  {
   "cell_type": "code",
   "execution_count": 12,
   "id": "94dfc0e8-aa98-47ab-acb1-25f6361cfa4c",
   "metadata": {},
   "outputs": [],
   "source": [
    "fp = r\"C:\\Users\\maelm\\Desktop\\CIRAIG\\GIT_Premise\\Premise_1\\datapackage.json\"\n",
    "metals2050 = Package(fp)"
   ]
  },
  {
   "cell_type": "code",
   "execution_count": 14,
   "id": "6a39f19b-356f-4ebc-9f91-a033fa05dc87",
   "metadata": {},
   "outputs": [
    {
     "data": {
      "text/plain": [
       "Databases dictionary with 6 object(s):\n",
       "\tTest\n",
       "\tbiosphere3\n",
       "\tcutoff391\n",
       "\tecoinvent_cutoff_3.9_remind_SSP2-Base_2020\n",
       "\tecoinvent_cutoff_3.9_remind_SSP2-Base_2030\n",
       "\tecoinvent_cutoff_3.9_remind_SSP2-Base_2040"
      ]
     },
     "execution_count": 14,
     "metadata": {},
     "output_type": "execute_result"
    }
   ],
   "source": [
    "databases"
   ]
  },
  {
   "cell_type": "code",
   "execution_count": 16,
   "id": "e3a1ad59-8abb-4e37-afa7-08983463955f",
   "metadata": {},
   "outputs": [
    {
     "name": "stdout",
     "output_type": "stream",
     "text": [
      "premise v.(2, 0, 1)\n",
      "+------------------------------------------------------------------+\n",
      "| Warning                                                          |\n",
      "+------------------------------------------------------------------+\n",
      "| Because some of the scenarios can yield LCI databases            |\n",
      "| containing net negative emission technologies (NET),             |\n",
      "| it is advised to account for biogenic CO2 flows when calculating |\n",
      "| Global Warming potential indicators.                             |\n",
      "| `premise_gwp` provides characterization factors for such flows.  |\n",
      "| It also provides factors for hydrogen emissions to air.          |\n",
      "|                                                                  |\n",
      "| Within your bw2 project:                                         |\n",
      "| from premise_gwp import add_premise_gwp                          |\n",
      "| add_premise_gwp()                                                |\n",
      "+------------------------------------------------------------------+\n",
      "+--------------------------------+----------------------------------+\n",
      "| Utils functions                | Description                      |\n",
      "+--------------------------------+----------------------------------+\n",
      "| clear_cache()                  | Clears the cache folder. Useful  |\n",
      "|                                | when updating `premise`or        |\n",
      "|                                | encountering issues with         |\n",
      "|                                | inventories.                     |\n",
      "+--------------------------------+----------------------------------+\n",
      "| get_regions_definition(model)  | Retrieves the list of countries  |\n",
      "|                                | for each region of the model.    |\n",
      "+--------------------------------+----------------------------------+\n",
      "| ndb.NewDatabase(...)           | Generates a summary of the most  |\n",
      "| ndb.generate_scenario_report() | important scenarios' variables.  |\n",
      "+--------------------------------+----------------------------------+\n",
      "Keep uncertainty data?\n",
      "NewDatabase(..., keep_uncertainty_data=True)\n",
      "\n",
      "Disable multiprocessing?\n",
      "NewDatabase(..., use_multiprocessing=False)\n",
      "\n",
      "Hide these messages?\n",
      "NewDatabase(..., quiet=True)\n",
      "- Extracting source database\n",
      "- Extracting inventories\n",
      "- Fetching IAM data\n"
     ]
    },
    {
     "name": "stderr",
     "output_type": "stream",
     "text": [
      "C:\\Users\\maelm\\anaconda3\\envs\\ab\\Lib\\site-packages\\premise\\data_collection.py:894: SettingWithCopyWarning: \n",
      "A value is trying to be set on a copy of a slice from a DataFrame.\n",
      "Try using .loc[row_indexer,col_indexer] = value instead\n",
      "\n",
      "See the caveats in the documentation: https://pandas.pydata.org/pandas-docs/stable/user_guide/indexing.html#returning-a-view-versus-a-copy\n",
      "  new_fuel_df.loc[:, \"variable\"] = iam_var\n",
      "C:\\Users\\maelm\\anaconda3\\envs\\ab\\Lib\\site-packages\\premise\\data_collection.py:895: SettingWithCopyWarning: \n",
      "A value is trying to be set on a copy of a slice from a DataFrame.\n",
      "Try using .loc[row_indexer,col_indexer] = value instead\n",
      "\n",
      "See the caveats in the documentation: https://pandas.pydata.org/pandas-docs/stable/user_guide/indexing.html#returning-a-view-versus-a-copy\n",
      "  new_fuel_df.loc[\n",
      "C:\\Users\\maelm\\anaconda3\\envs\\ab\\Lib\\site-packages\\premise\\data_collection.py:894: SettingWithCopyWarning: \n",
      "A value is trying to be set on a copy of a slice from a DataFrame.\n",
      "Try using .loc[row_indexer,col_indexer] = value instead\n",
      "\n",
      "See the caveats in the documentation: https://pandas.pydata.org/pandas-docs/stable/user_guide/indexing.html#returning-a-view-versus-a-copy\n",
      "  new_fuel_df.loc[:, \"variable\"] = iam_var\n",
      "C:\\Users\\maelm\\anaconda3\\envs\\ab\\Lib\\site-packages\\premise\\data_collection.py:895: SettingWithCopyWarning: \n",
      "A value is trying to be set on a copy of a slice from a DataFrame.\n",
      "Try using .loc[row_indexer,col_indexer] = value instead\n",
      "\n",
      "See the caveats in the documentation: https://pandas.pydata.org/pandas-docs/stable/user_guide/indexing.html#returning-a-view-versus-a-copy\n",
      "  new_fuel_df.loc[\n",
      "C:\\Users\\maelm\\anaconda3\\envs\\ab\\Lib\\site-packages\\premise\\data_collection.py:894: SettingWithCopyWarning: \n",
      "A value is trying to be set on a copy of a slice from a DataFrame.\n",
      "Try using .loc[row_indexer,col_indexer] = value instead\n",
      "\n",
      "See the caveats in the documentation: https://pandas.pydata.org/pandas-docs/stable/user_guide/indexing.html#returning-a-view-versus-a-copy\n",
      "  new_fuel_df.loc[:, \"variable\"] = iam_var\n",
      "C:\\Users\\maelm\\anaconda3\\envs\\ab\\Lib\\site-packages\\premise\\data_collection.py:894: SettingWithCopyWarning: \n",
      "A value is trying to be set on a copy of a slice from a DataFrame.\n",
      "Try using .loc[row_indexer,col_indexer] = value instead\n",
      "\n",
      "See the caveats in the documentation: https://pandas.pydata.org/pandas-docs/stable/user_guide/indexing.html#returning-a-view-versus-a-copy\n",
      "  new_fuel_df.loc[:, \"variable\"] = iam_var\n",
      "C:\\Users\\maelm\\anaconda3\\envs\\ab\\Lib\\site-packages\\premise\\data_collection.py:895: SettingWithCopyWarning: \n",
      "A value is trying to be set on a copy of a slice from a DataFrame.\n",
      "Try using .loc[row_indexer,col_indexer] = value instead\n",
      "\n",
      "See the caveats in the documentation: https://pandas.pydata.org/pandas-docs/stable/user_guide/indexing.html#returning-a-view-versus-a-copy\n",
      "  new_fuel_df.loc[\n"
     ]
    },
    {
     "name": "stdout",
     "output_type": "stream",
     "text": [
      "Done!\n"
     ]
    }
   ],
   "source": [
    "ndb = NewDatabase(\n",
    "            scenarios = [\n",
    "                {\"model\":\"remind\", \"pathway\":\"SSP2-Base\", \"year\":2025},\n",
    "                {\"model\":\"remind\", \"pathway\":\"SSP2-Base\", \"year\":2050},\n",
    "            ],        \n",
    "            source_db=\"cutoff391\",\n",
    "            source_version=\"3.9.1\",\n",
    "            key='tUePmX_S5B8ieZkkM7WUU2CnO8SmShwmAeWK9x2rTFo=',\n",
    "            #additional_inventories=[{\"filepath\": r\"/Users/margueritefauroux/Desktop/PDM/GREET_2021_NiSO4_Production.xlsx\", \"ecoinvent version\": \"3.8\"}],\n",
    "            #external_scenarios=[metals2050]\n",
    "        )"
   ]
  },
  {
   "cell_type": "code",
   "execution_count": 17,
   "id": "c0a210aa-3caf-4441-b4a5-e121bc909b34",
   "metadata": {},
   "outputs": [
    {
     "name": "stderr",
     "output_type": "stream",
     "text": [
      "Updating: electricity: 100%|███████████| 1/1 [02:04<00:00, 124.38s/it]\n"
     ]
    },
    {
     "name": "stdout",
     "output_type": "stream",
     "text": [
      "Done!\n",
      "\n"
     ]
    }
   ],
   "source": [
    " ndb.update(\"electricity\")\n",
    "# ndb.update_all()\n",
    "# ndb.update()"
   ]
  },
  {
   "cell_type": "code",
   "execution_count": 18,
   "id": "85baed60-ff9e-4c3d-ae33-f2ed523fdf66",
   "metadata": {},
   "outputs": [
    {
     "name": "stdout",
     "output_type": "stream",
     "text": [
      "Write new database(s) to Brightway.\n",
      "Running all checks...\n",
      "Running all checks...\n"
     ]
    },
    {
     "name": "stderr",
     "output_type": "stream",
     "text": [
      "Writing activities to SQLite3 database:\n",
      "0% [##############################] 100% | ETA: 00:00:00\n",
      "Total time elapsed: 00:00:33\n"
     ]
    },
    {
     "name": "stdout",
     "output_type": "stream",
     "text": [
      "Title: Writing activities to SQLite3 database:\n",
      "  Started: 02/27/2024 11:32:31\n",
      "  Finished: 02/27/2024 11:33:05\n",
      "  Total time elapsed: 00:00:33\n",
      "  CPU %: 92.20\n",
      "  Memory %: 13.32\n",
      "Created database: SSP_base_2025\n"
     ]
    },
    {
     "name": "stderr",
     "output_type": "stream",
     "text": [
      "Writing activities to SQLite3 database:\n",
      "0% [##############################] 100% | ETA: 00:00:00\n",
      "Total time elapsed: 00:00:37\n"
     ]
    },
    {
     "name": "stdout",
     "output_type": "stream",
     "text": [
      "Title: Writing activities to SQLite3 database:\n",
      "  Started: 02/27/2024 11:35:23\n",
      "  Finished: 02/27/2024 11:36:00\n",
      "  Total time elapsed: 00:00:37\n",
      "  CPU %: 91.90\n",
      "  Memory %: 13.47\n",
      "Created database: SSP_base_2050\n",
      "Generate scenario report.\n",
      "Report saved under C:\\Users\\maelm\\Desktop\\CIRAIG\\GIT_Premise\\Premise_1\\export\\scenario_report.\n",
      "Generate change report.\n",
      "Report saved under C:\\Users\\maelm\\Desktop\\CIRAIG\\GIT_Premise\\Premise_1.\n"
     ]
    }
   ],
   "source": [
    "ndb.write_db_to_brightway(['SSP_base_2025','SSP_base_2050'])"
   ]
  },
  {
   "cell_type": "markdown",
   "id": "7eee1cd3-047c-47e7-b6fb-227fd14bd1ed",
   "metadata": {},
   "source": [
    "## Test 1 :\n",
    "* Regarder la difference dans le Market d'electricite en France entre 2025 et 2050\n",
    "* Regarder quelle a bien ete update sur un process qui en dependait"
   ]
  },
  {
   "cell_type": "markdown",
   "id": "273dd074-2682-45f3-8836-733bf1a9a074",
   "metadata": {},
   "source": [
    "### Electricity in 2025"
   ]
  },
  {
   "cell_type": "code",
   "execution_count": 44,
   "id": "d6a8af87-a2bc-46fe-9166-79dc16055ee0",
   "metadata": {},
   "outputs": [
    {
     "name": "stdout",
     "output_type": "stream",
     "text": [
      "Excluding 617 filtered results\n",
      "Excluding 617 filtered results\n"
     ]
    },
    {
     "data": {
      "text/plain": [
       "['market for electricity, high voltage' (kilowatt hour, FR, None),\n",
       " 'market for electricity, medium voltage' (kilowatt hour, FR, None),\n",
       " 'market for electricity, low voltage' (kilowatt hour, FR, None)]"
      ]
     },
     "execution_count": 44,
     "metadata": {},
     "output_type": "execute_result"
    }
   ],
   "source": [
    "elec_hv_2025 = Database('SSP_base_2025').search('market group for electricity, high voltage',filter={'location':'FR'})[0]\n",
    "Database('SSP_base_2025').search('market group for electricity, high voltage',filter={'location':'FR'})"
   ]
  },
  {
   "cell_type": "code",
   "execution_count": 21,
   "id": "ef4a371c-4931-4d40-846f-98efccaa7cf2",
   "metadata": {},
   "outputs": [
    {
     "data": {
      "text/plain": [
       "[Exchange: 1.0 kilowatt hour 'market group for electricity, high voltage' (kilowatt hour, EUR, None) to 'market for electricity, high voltage' (kilowatt hour, FR, None)>]"
      ]
     },
     "execution_count": 21,
     "metadata": {},
     "output_type": "execute_result"
    }
   ],
   "source": [
    "[i for i in elec_hv_2025.technosphere()]"
   ]
  },
  {
   "cell_type": "code",
   "execution_count": 73,
   "id": "7ff99319-6a5a-4ea0-bd9c-d91f5ac7f09e",
   "metadata": {},
   "outputs": [],
   "source": [
    "functional_unit = {(elec_hv_2025.key):1}\n",
    "method = ('CML v4.8 2016', 'climate change', 'global warming potential (GWP100)')"
   ]
  },
  {
   "cell_type": "code",
   "execution_count": 76,
   "id": "13c5b76c-bd00-4aee-a175-354fd5e6dda5",
   "metadata": {},
   "outputs": [
    {
     "data": {
      "text/plain": [
       "0.27216277009072887"
      ]
     },
     "execution_count": 76,
     "metadata": {},
     "output_type": "execute_result"
    }
   ],
   "source": [
    "lca = LCA({('SSP_base_2025', '4aa647728332f25a2a4613bc060c7d90'):1},('CML v4.8 2016', 'climate change', 'global warming potential (GWP100)'))\n",
    "lca = LCA(functional_unit,method)\n",
    "lca.lci()\n",
    "lca.lcia()\n",
    "lca.score"
   ]
  },
  {
   "cell_type": "markdown",
   "id": "d525a124-98d9-4d35-a0c2-c19567e63c6b",
   "metadata": {},
   "source": [
    "### Electricity in 2050"
   ]
  },
  {
   "cell_type": "code",
   "execution_count": 45,
   "id": "f10b3c40-251d-4151-af4f-f6fca2ab13ec",
   "metadata": {},
   "outputs": [
    {
     "name": "stdout",
     "output_type": "stream",
     "text": [
      "Excluding 992 filtered results\n",
      "Excluding 992 filtered results\n"
     ]
    },
    {
     "data": {
      "text/plain": [
       "['market for electricity, high voltage' (kilowatt hour, FR, None),\n",
       " 'electricity, high voltage, residual mix' (kilowatt hour, FR, None),\n",
       " 'market for electricity, medium voltage' (kilowatt hour, FR, None),\n",
       " 'market for electricity, low voltage' (kilowatt hour, FR, None),\n",
       " 'electricity, low voltage, residual mix' (kilowatt hour, FR, None),\n",
       " 'electricity, medium voltage, residual mix' (kilowatt hour, FR, None),\n",
       " 'electricity production, hard coal' (kilowatt hour, FR, None)]"
      ]
     },
     "execution_count": 45,
     "metadata": {},
     "output_type": "execute_result"
    }
   ],
   "source": [
    "elec_hv_2050 = Database('SSP_base_2050').search('market for electricity, high voltage',filter={'location':'FR'})[0]\n",
    "Database('SSP_base_2050').search('market for electricity, high voltage',filter={'location':'FR'})"
   ]
  },
  {
   "cell_type": "code",
   "execution_count": 39,
   "id": "ccca0a30-70a4-4fb6-bec2-1f29ba7c2b06",
   "metadata": {},
   "outputs": [
    {
     "data": {
      "text/plain": [
       "[]"
      ]
     },
     "execution_count": 39,
     "metadata": {},
     "output_type": "execute_result"
    }
   ],
   "source": [
    "[i for i in elec_hv_2050.biosphere()]"
   ]
  },
  {
   "cell_type": "code",
   "execution_count": 79,
   "id": "c51b1443-6987-421f-a8c8-b53906c2f220",
   "metadata": {},
   "outputs": [],
   "source": [
    "functional_unit = {(elec_hv_2050.key):1}\n",
    "method = ('CML v4.8 2016', 'climate change', 'global warming potential (GWP100)')"
   ]
  },
  {
   "cell_type": "code",
   "execution_count": 82,
   "id": "1b5c2822-a4dc-4641-aa9f-3dd7e857ac43",
   "metadata": {},
   "outputs": [
    {
     "data": {
      "text/plain": [
       "0.04293480968257277"
      ]
     },
     "execution_count": 82,
     "metadata": {},
     "output_type": "execute_result"
    }
   ],
   "source": [
    "lca = LCA(functional_unit,method)\n",
    "lca.lci()\n",
    "lca.lcia()\n",
    "lca.score"
   ]
  },
  {
   "cell_type": "markdown",
   "id": "44c54950-d12c-4ab9-a1a0-3052cfbd8089",
   "metadata": {},
   "source": [
    "## Test 2 :\n",
    "Regarder la difference dans entre une activite Premise et une activite Ecoinvent"
   ]
  },
  {
   "cell_type": "markdown",
   "id": "53c02cb9-aa97-4f2a-b1e7-3ab91627d031",
   "metadata": {},
   "source": [
    "## Test 3 :\n",
    "Regarder la difference dans entre Premise sans scenario et avec le nouveaux scenario"
   ]
  },
  {
   "cell_type": "markdown",
   "id": "e317a5a6-d7e6-498c-9843-fe0e665147fe",
   "metadata": {},
   "source": [
    "## Test 4 :\n",
    "Regarder comment marche le fait de rajouter un nouveau inventaire"
   ]
  },
  {
   "cell_type": "markdown",
   "id": "430ec00d-40e2-49f9-9198-244c8a4e1acb",
   "metadata": {},
   "source": [
    "## Test 5 :\n",
    "* Regarder comment marche la regionalization avec Premise\n",
    "* Regarder les regions qui sont implementer avec IAM\n"
   ]
  },
  {
   "cell_type": "markdown",
   "id": "5f5eb77e-391b-4048-8362-630b9111993f",
   "metadata": {},
   "source": [
    "## Test 6 :\n",
    "Regarder la technique pour rajouter du biogenic regionalized"
   ]
  }
 ],
 "metadata": {
  "kernelspec": {
   "display_name": "Python 3 (ipykernel)",
   "language": "python",
   "name": "python3"
  },
  "language_info": {
   "codemirror_mode": {
    "name": "ipython",
    "version": 3
   },
   "file_extension": ".py",
   "mimetype": "text/x-python",
   "name": "python",
   "nbconvert_exporter": "python",
   "pygments_lexer": "ipython3",
   "version": "3.11.8"
  }
 },
 "nbformat": 4,
 "nbformat_minor": 5
}
